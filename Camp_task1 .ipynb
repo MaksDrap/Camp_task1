{
 "cells": [
  {
   "cell_type": "code",
   "execution_count": 1,
   "id": "3df4a35e",
   "metadata": {},
   "outputs": [
    {
     "name": "stdout",
     "output_type": "stream",
     "text": [
      "[list([4, 13])]\n"
     ]
    }
   ],
   "source": [
    "import pandas as pd\n",
    "\n",
    "def flatten(lst):\n",
    "    result = []\n",
    "    for sub_lst in lst:\n",
    "        result.extend(sub_lst)\n",
    "    return result\n",
    "\n",
    "def termpairs(n):\n",
    "    terms = []\n",
    "    for i in range(2, n):\n",
    "        if (n - i > 1) and all(i not in existingterms for existingterms in terms):\n",
    "            terms.append([i, n - i])\n",
    "    return terms\n",
    "\n",
    "def factorpairs(n):\n",
    "    factors = []\n",
    "    for i in range(2, n):\n",
    "        if n % i == 0:\n",
    "            if all(i not in existingfactors for existingfactors in factors):\n",
    "                factors.append([i, n / i])\n",
    "    return factors\n",
    "\n",
    "def listfactorpairs_num(lst):\n",
    "    return all(len(factorpairs(i)) != 1 for i in lst)\n",
    "\n",
    "def listproduct(lst):\n",
    "    return [i[0] * i[1] for i in lst]\n",
    "\n",
    "numbers = [[[i, j]] for i in range(2, 100) for j in range(2, 100) if i + j <= 100 and i < j]\n",
    "numbers = pd.DataFrame(numbers, columns=['nums'])\n",
    "\n",
    "numbers['S'] = numbers['nums'].apply(lambda n: n[0] + n[1])\n",
    "numbers['P'] = numbers['nums'].apply(lambda n: n[0] * n[1])\n",
    "\n",
    "numbers['terms'] = numbers['S'].apply(termpairs)\n",
    "numbers['termsproduct'] = numbers['terms'].apply(listproduct)\n",
    "numbers['num_termsproductfactors'] = numbers['termsproduct'].apply(listfactorpairs_num)\n",
    "numbers = numbers[numbers['num_termsproductfactors']]\n",
    "\n",
    "numbers['Pfreq'] = numbers.groupby('P')['P'].transform('count')\n",
    "numbers = numbers[numbers['Pfreq'] == 1]\n",
    "\n",
    "numbers['Sfreq'] = numbers.groupby('S')['S'].transform('count')\n",
    "numbers = numbers[numbers['Sfreq'] == 1]\n",
    "\n",
    "print(numbers['nums'].values)"
   ]
  },
  {
   "cell_type": "code",
   "execution_count": null,
   "id": "e9f69ee7",
   "metadata": {},
   "outputs": [],
   "source": []
  },
  {
   "cell_type": "code",
   "execution_count": null,
   "id": "f6f9c6b4",
   "metadata": {},
   "outputs": [],
   "source": []
  }
 ],
 "metadata": {
  "kernelspec": {
   "display_name": "Python 3 (ipykernel)",
   "language": "python",
   "name": "python3"
  },
  "language_info": {
   "codemirror_mode": {
    "name": "ipython",
    "version": 3
   },
   "file_extension": ".py",
   "mimetype": "text/x-python",
   "name": "python",
   "nbconvert_exporter": "python",
   "pygments_lexer": "ipython3",
   "version": "3.11.5"
  }
 },
 "nbformat": 4,
 "nbformat_minor": 5
}
