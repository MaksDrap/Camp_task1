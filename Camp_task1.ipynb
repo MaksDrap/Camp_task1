{
 "cells": [
  {
   "cell_type": "code",
   "execution_count": 1,
   "id": "204004bf",
   "metadata": {},
   "outputs": [
    {
     "name": "stdout",
     "output_type": "stream",
     "text": [
      "Число a: 1, Число b: 4\n"
     ]
    }
   ],
   "source": [
    "def find_numbers():\n",
    "    for Sum in range(4, 198):  # Сума двох чисел від 1 до 100 може бути від 4 до 198\n",
    "        for a in range(1, 100):\n",
    "            b = Sum - a\n",
    "            if a < b and a * b < 10000 and b <= 100:\n",
    "                Prod = a * b\n",
    "                if len(set([x*y for x in range(1, 100) for y in range(x+1, 100) if x+y == Sum])) > 1 and \\\n",
    "                   len(set([x+y for x in range(1, 100) for y in range(x+1, 100) if x*y == Prod])) == 1:\n",
    "                    return a, b  # Повертаємо пару чисел, якщо вона задовольняє всі умови\n",
    "\n",
    "a, b = find_numbers()\n",
    "print(f\"Число a: {a}, Число b: {b}\")\n"
   ]
  },
  {
   "cell_type": "code",
   "execution_count": null,
   "id": "183b8c44",
   "metadata": {},
   "outputs": [],
   "source": []
  }
 ],
 "metadata": {
  "kernelspec": {
   "display_name": "Python 3 (ipykernel)",
   "language": "python",
   "name": "python3"
  },
  "language_info": {
   "codemirror_mode": {
    "name": "ipython",
    "version": 3
   },
   "file_extension": ".py",
   "mimetype": "text/x-python",
   "name": "python",
   "nbconvert_exporter": "python",
   "pygments_lexer": "ipython3",
   "version": "3.11.5"
  }
 },
 "nbformat": 4,
 "nbformat_minor": 5
}
