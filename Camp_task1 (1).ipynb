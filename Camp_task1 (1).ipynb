{
 "cells": [
  {
   "cell_type": "code",
   "execution_count": 38,
   "id": "944c5056",
   "metadata": {},
   "outputs": [
    {
     "name": "stdout",
     "output_type": "stream",
     "text": [
      "The numbers are 2 and 4\n"
     ]
    }
   ],
   "source": [
    "def find_numbers():\n",
    "    for sum in range(4, 198): # можливі пари\n",
    "        pairs = [(a, b) for a in range(2, 100) for b in range(a, 100) if a + b == sum and a * b in range(8, 13)]\n",
    "        if len(set(a*b for a, b in pairs)) == len(pairs): # сума знає числа\n",
    "            products = [a*b for a, b in pairs]\n",
    "            if any(products.count(p) == 1 for p in products): # добуток знає числа\n",
    "                return pairs[products.index(next(p for p in products if products.count(p) == 1))]\n",
    "\n",
    "a, b = find_numbers()\n",
    "print(f\"The numbers are {a} and {b}\")"
   ]
  },
  {
   "cell_type": "code",
   "execution_count": null,
   "id": "fece3d7f",
   "metadata": {},
   "outputs": [],
   "source": []
  }
 ],
 "metadata": {
  "kernelspec": {
   "display_name": "Python 3 (ipykernel)",
   "language": "python",
   "name": "python3"
  },
  "language_info": {
   "codemirror_mode": {
    "name": "ipython",
    "version": 3
   },
   "file_extension": ".py",
   "mimetype": "text/x-python",
   "name": "python",
   "nbconvert_exporter": "python",
   "pygments_lexer": "ipython3",
   "version": "3.11.5"
  }
 },
 "nbformat": 4,
 "nbformat_minor": 5
}
